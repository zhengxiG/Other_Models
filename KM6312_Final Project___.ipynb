{
 "cells": [
  {
   "cell_type": "code",
   "execution_count": 1,
   "metadata": {},
   "outputs": [],
   "source": [
    "#!pip install emoji\n",
    "import pandas as pd\n",
    "import emoji\n",
    "import regex as re\n",
    "import string \n",
    "from nltk.corpus import stopwords\n",
    "from nltk.stem import PorterStemmer, WordNetLemmatizer\n",
    "from nltk.corpus import wordnet\n",
    "stemmer = PorterStemmer()\n",
    "lemmatizer = WordNetLemmatizer()\n"
   ]
  },
  {
   "cell_type": "code",
   "execution_count": 2,
   "metadata": {},
   "outputs": [
    {
     "data": {
      "text/html": [
       "<div>\n",
       "<style scoped>\n",
       "    .dataframe tbody tr th:only-of-type {\n",
       "        vertical-align: middle;\n",
       "    }\n",
       "\n",
       "    .dataframe tbody tr th {\n",
       "        vertical-align: top;\n",
       "    }\n",
       "\n",
       "    .dataframe thead th {\n",
       "        text-align: right;\n",
       "    }\n",
       "</style>\n",
       "<table border=\"1\" class=\"dataframe\">\n",
       "  <thead>\n",
       "    <tr style=\"text-align: right;\">\n",
       "      <th></th>\n",
       "      <th>review</th>\n",
       "      <th>labels</th>\n",
       "      <th>split</th>\n",
       "    </tr>\n",
       "  </thead>\n",
       "  <tbody>\n",
       "    <tr>\n",
       "      <th>0</th>\n",
       "      <td>asked chatgpt to explain why fast growing lend...</td>\n",
       "      <td>bad</td>\n",
       "      <td>train</td>\n",
       "    </tr>\n",
       "    <tr>\n",
       "      <th>1</th>\n",
       "      <td>building a virtual machine inside chatgpt  tco...</td>\n",
       "      <td>bad</td>\n",
       "      <td>train</td>\n",
       "    </tr>\n",
       "    <tr>\n",
       "      <th>2</th>\n",
       "      <td>imagining chatgpt but with video input n nin r...</td>\n",
       "      <td>bad</td>\n",
       "      <td>train</td>\n",
       "    </tr>\n",
       "    <tr>\n",
       "      <th>3</th>\n",
       "      <td>openai s chatgpt shows why implementation is k...</td>\n",
       "      <td>bad</td>\n",
       "      <td>train</td>\n",
       "    </tr>\n",
       "    <tr>\n",
       "      <th>4</th>\n",
       "      <td>google stock don t be afraid of chatgpt nasdaq...</td>\n",
       "      <td>bad</td>\n",
       "      <td>train</td>\n",
       "    </tr>\n",
       "    <tr>\n",
       "      <th>...</th>\n",
       "      <td>...</td>\n",
       "      <td>...</td>\n",
       "      <td>...</td>\n",
       "    </tr>\n",
       "    <tr>\n",
       "      <th>39995</th>\n",
       "      <td>chatgpt poetry this one is about womenlifefre...</td>\n",
       "      <td>bad</td>\n",
       "      <td>test</td>\n",
       "    </tr>\n",
       "    <tr>\n",
       "      <th>39996</th>\n",
       "      <td>taiyo oil sales units  floor price nfts blockc...</td>\n",
       "      <td>bad</td>\n",
       "      <td>test</td>\n",
       "    </tr>\n",
       "    <tr>\n",
       "      <th>39997</th>\n",
       "      <td>chatgpt doesn t only pass turing s test but wo...</td>\n",
       "      <td>bad</td>\n",
       "      <td>test</td>\n",
       "    </tr>\n",
       "    <tr>\n",
       "      <th>39998</th>\n",
       "      <td>chatgpt is an incredible tool but when asked ...</td>\n",
       "      <td>bad</td>\n",
       "      <td>test</td>\n",
       "    </tr>\n",
       "    <tr>\n",
       "      <th>39999</th>\n",
       "      <td>google vs chatgpt  tco jsvjwoijx</td>\n",
       "      <td>bad</td>\n",
       "      <td>test</td>\n",
       "    </tr>\n",
       "  </tbody>\n",
       "</table>\n",
       "<p>40000 rows × 3 columns</p>\n",
       "</div>"
      ],
      "text/plain": [
       "                                                  review labels  split\n",
       "0      asked chatgpt to explain why fast growing lend...    bad  train\n",
       "1      building a virtual machine inside chatgpt  tco...    bad  train\n",
       "2      imagining chatgpt but with video input n nin r...    bad  train\n",
       "3      openai s chatgpt shows why implementation is k...    bad  train\n",
       "4      google stock don t be afraid of chatgpt nasdaq...    bad  train\n",
       "...                                                  ...    ...    ...\n",
       "39995   chatgpt poetry this one is about womenlifefre...    bad   test\n",
       "39996  taiyo oil sales units  floor price nfts blockc...    bad   test\n",
       "39997  chatgpt doesn t only pass turing s test but wo...    bad   test\n",
       "39998   chatgpt is an incredible tool but when asked ...    bad   test\n",
       "39999                  google vs chatgpt  tco jsvjwoijx     bad   test\n",
       "\n",
       "[40000 rows x 3 columns]"
      ]
     },
     "execution_count": 2,
     "metadata": {},
     "output_type": "execute_result"
    }
   ],
   "source": [
    "# Read the CSV file into a DataFrame\n",
    "df = pd.read_csv('good_bad_with_splits_full.csv')\n",
    "df"
   ]
  },
  {
   "cell_type": "code",
   "execution_count": 3,
   "metadata": {},
   "outputs": [
    {
     "data": {
      "text/html": [
       "<div>\n",
       "<style scoped>\n",
       "    .dataframe tbody tr th:only-of-type {\n",
       "        vertical-align: middle;\n",
       "    }\n",
       "\n",
       "    .dataframe tbody tr th {\n",
       "        vertical-align: top;\n",
       "    }\n",
       "\n",
       "    .dataframe thead th {\n",
       "        text-align: right;\n",
       "    }\n",
       "</style>\n",
       "<table border=\"1\" class=\"dataframe\">\n",
       "  <thead>\n",
       "    <tr style=\"text-align: right;\">\n",
       "      <th></th>\n",
       "      <th>review</th>\n",
       "      <th>labels</th>\n",
       "      <th>split</th>\n",
       "      <th>token</th>\n",
       "    </tr>\n",
       "  </thead>\n",
       "  <tbody>\n",
       "    <tr>\n",
       "      <th>0</th>\n",
       "      <td>asked chatgpt to explain why fast growing lend...</td>\n",
       "      <td>bad</td>\n",
       "      <td>train</td>\n",
       "      <td>[asked, chatgpt, to, explain, why, fast, growi...</td>\n",
       "    </tr>\n",
       "    <tr>\n",
       "      <th>1</th>\n",
       "      <td>building a virtual machine inside chatgpt  tco...</td>\n",
       "      <td>bad</td>\n",
       "      <td>train</td>\n",
       "      <td>[building, a, virtual, machine, inside, chatgp...</td>\n",
       "    </tr>\n",
       "    <tr>\n",
       "      <th>2</th>\n",
       "      <td>imagining chatgpt but with video input n nin r...</td>\n",
       "      <td>bad</td>\n",
       "      <td>train</td>\n",
       "      <td>[imagining, chatgpt, but, with, video, input, ...</td>\n",
       "    </tr>\n",
       "    <tr>\n",
       "      <th>3</th>\n",
       "      <td>openai s chatgpt shows why implementation is k...</td>\n",
       "      <td>bad</td>\n",
       "      <td>train</td>\n",
       "      <td>[openai, s, chatgpt, shows, why, implementatio...</td>\n",
       "    </tr>\n",
       "    <tr>\n",
       "      <th>4</th>\n",
       "      <td>google stock don t be afraid of chatgpt nasdaq...</td>\n",
       "      <td>bad</td>\n",
       "      <td>train</td>\n",
       "      <td>[google, stock, don, t, be, afraid, of, chatgp...</td>\n",
       "    </tr>\n",
       "    <tr>\n",
       "      <th>...</th>\n",
       "      <td>...</td>\n",
       "      <td>...</td>\n",
       "      <td>...</td>\n",
       "      <td>...</td>\n",
       "    </tr>\n",
       "    <tr>\n",
       "      <th>39995</th>\n",
       "      <td>chatgpt poetry this one is about womenlifefre...</td>\n",
       "      <td>bad</td>\n",
       "      <td>test</td>\n",
       "      <td>[chatgpt, poetry, this, one, is, about, womenl...</td>\n",
       "    </tr>\n",
       "    <tr>\n",
       "      <th>39996</th>\n",
       "      <td>taiyo oil sales units  floor price nfts blockc...</td>\n",
       "      <td>bad</td>\n",
       "      <td>test</td>\n",
       "      <td>[taiyo, oil, sales, units, floor, price, nfts,...</td>\n",
       "    </tr>\n",
       "    <tr>\n",
       "      <th>39997</th>\n",
       "      <td>chatgpt doesn t only pass turing s test but wo...</td>\n",
       "      <td>bad</td>\n",
       "      <td>test</td>\n",
       "      <td>[chatgpt, doesn, t, only, pass, turing, s, tes...</td>\n",
       "    </tr>\n",
       "    <tr>\n",
       "      <th>39998</th>\n",
       "      <td>chatgpt is an incredible tool but when asked ...</td>\n",
       "      <td>bad</td>\n",
       "      <td>test</td>\n",
       "      <td>[chatgpt, is, an, incredible, tool, but, when,...</td>\n",
       "    </tr>\n",
       "    <tr>\n",
       "      <th>39999</th>\n",
       "      <td>google vs chatgpt  tco jsvjwoijx</td>\n",
       "      <td>bad</td>\n",
       "      <td>test</td>\n",
       "      <td>[google, vs, chatgpt, tco, jsvjwoijx]</td>\n",
       "    </tr>\n",
       "  </tbody>\n",
       "</table>\n",
       "<p>40000 rows × 4 columns</p>\n",
       "</div>"
      ],
      "text/plain": [
       "                                                  review labels  split   \n",
       "0      asked chatgpt to explain why fast growing lend...    bad  train  \\\n",
       "1      building a virtual machine inside chatgpt  tco...    bad  train   \n",
       "2      imagining chatgpt but with video input n nin r...    bad  train   \n",
       "3      openai s chatgpt shows why implementation is k...    bad  train   \n",
       "4      google stock don t be afraid of chatgpt nasdaq...    bad  train   \n",
       "...                                                  ...    ...    ...   \n",
       "39995   chatgpt poetry this one is about womenlifefre...    bad   test   \n",
       "39996  taiyo oil sales units  floor price nfts blockc...    bad   test   \n",
       "39997  chatgpt doesn t only pass turing s test but wo...    bad   test   \n",
       "39998   chatgpt is an incredible tool but when asked ...    bad   test   \n",
       "39999                  google vs chatgpt  tco jsvjwoijx     bad   test   \n",
       "\n",
       "                                                   token  \n",
       "0      [asked, chatgpt, to, explain, why, fast, growi...  \n",
       "1      [building, a, virtual, machine, inside, chatgp...  \n",
       "2      [imagining, chatgpt, but, with, video, input, ...  \n",
       "3      [openai, s, chatgpt, shows, why, implementatio...  \n",
       "4      [google, stock, don, t, be, afraid, of, chatgp...  \n",
       "...                                                  ...  \n",
       "39995  [chatgpt, poetry, this, one, is, about, womenl...  \n",
       "39996  [taiyo, oil, sales, units, floor, price, nfts,...  \n",
       "39997  [chatgpt, doesn, t, only, pass, turing, s, tes...  \n",
       "39998  [chatgpt, is, an, incredible, tool, but, when,...  \n",
       "39999              [google, vs, chatgpt, tco, jsvjwoijx]  \n",
       "\n",
       "[40000 rows x 4 columns]"
      ]
     },
     "execution_count": 3,
     "metadata": {},
     "output_type": "execute_result"
    }
   ],
   "source": [
    "import nltk\n",
    "from nltk.tokenize import word_tokenize\n",
    "tokenize = lambda x: word_tokenize(x)\n",
    "df['token'] = df['review'].apply(tokenize)\n",
    "df"
   ]
  },
  {
   "cell_type": "markdown",
   "metadata": {},
   "source": [
    "# SVM"
   ]
  },
  {
   "cell_type": "code",
   "execution_count": 25,
   "metadata": {},
   "outputs": [],
   "source": [
    "from sklearn.svm import SVC\n",
    "from sklearn.feature_extraction.text import TfidfVectorizer\n",
    "from sklearn.metrics import accuracy_score, classification_report"
   ]
  },
  {
   "cell_type": "code",
   "execution_count": 26,
   "metadata": {},
   "outputs": [],
   "source": [
    "train_df = df[df['split']=='train']\n",
    "val_df = df[df['split']=='val']\n",
    "test_df = df[df['split']=='test']"
   ]
  },
  {
   "cell_type": "code",
   "execution_count": 29,
   "metadata": {},
   "outputs": [],
   "source": [
    "vectorizer = TfidfVectorizer(stop_words='english')\n",
    "X_train = vectorizer.fit_transform(train_df['review'])\n",
    "X_val = vectorizer.transform(val_df['review'])\n",
    "X_test = vectorizer.transform(test_df['review'])\n",
    "y_train = train_df['labels']\n",
    "y_val = val_df['labels']\n",
    "y_test = test_df['labels']\n"
   ]
  },
  {
   "cell_type": "code",
   "execution_count": 52,
   "metadata": {},
   "outputs": [
    {
     "data": {
      "text/plain": [
       "SVC(C=1, kernel='linear', random_state=42)"
      ]
     },
     "execution_count": 52,
     "metadata": {},
     "output_type": "execute_result"
    }
   ],
   "source": [
    "svm = SVC(kernel='linear', C=1, random_state=42)\n",
    "svm.fit(X_train, y_train)"
   ]
  },
  {
   "cell_type": "code",
   "execution_count": 53,
   "metadata": {},
   "outputs": [
    {
     "name": "stdout",
     "output_type": "stream",
     "text": [
      "Accuracy: 0.9427893175074183\n",
      "              precision    recall  f1-score   support\n",
      "\n",
      "         bad       0.94      0.94      0.94      4194\n",
      "        good       0.94      0.94      0.94      4231\n",
      "\n",
      "    accuracy                           0.94      8425\n",
      "   macro avg       0.94      0.94      0.94      8425\n",
      "weighted avg       0.94      0.94      0.94      8425\n",
      "\n"
     ]
    }
   ],
   "source": [
    "y_val_pred = svm.predict(X_val)\n",
    "acc = accuracy_score(y_val, y_val_pred)\n",
    "report = classification_report(y_val, y_val_pred)\n",
    "print(f\"Accuracy: {acc}\")\n",
    "print(report)"
   ]
  },
  {
   "cell_type": "code",
   "execution_count": 64,
   "metadata": {},
   "outputs": [
    {
     "name": "stdout",
     "output_type": "stream",
     "text": [
      "Accuracy: 0.9446822798623352\n",
      "              precision    recall  f1-score   support\n",
      "\n",
      "         bad       0.94      0.95      0.95      6019\n",
      "        good       0.95      0.94      0.94      5894\n",
      "\n",
      "    accuracy                           0.94     11913\n",
      "   macro avg       0.94      0.94      0.94     11913\n",
      "weighted avg       0.94      0.94      0.94     11913\n",
      "\n"
     ]
    }
   ],
   "source": [
    "y_test_pred = svm.predict(X_test)\n",
    "acc = accuracy_score(y_test, y_test_pred)\n",
    "report = classification_report(y_test, y_test_pred)\n",
    "print(f\"Accuracy: {acc}\")\n",
    "print(report)"
   ]
  },
  {
   "cell_type": "code",
   "execution_count": 55,
   "metadata": {},
   "outputs": [
    {
     "name": "stdout",
     "output_type": "stream",
     "text": [
      "['chatgpt is helpful'] ['good']\n",
      "['chatgpt is pretty cool'] ['good']\n",
      "['chatgpt is slow'] ['bad']\n",
      "['the answers of chatgpt is crazy'] ['bad']\n"
     ]
    }
   ],
   "source": [
    "text1 = [\"chatgpt is helpful\"]\n",
    "X1 = vectorizer.transform(text1)\n",
    "y1 = svm.predict(X1)\n",
    "text2 = [\"chatgpt is pretty cool\"]\n",
    "X2 = vectorizer.transform(text2)\n",
    "y2 = svm.predict(X2)\n",
    "text3 = [\"chatgpt is slow\"]\n",
    "X3 = vectorizer.transform(text3)\n",
    "y3 = svm.predict(X3)\n",
    "text4 = [\"the answers of chatgpt is crazy\"]\n",
    "X4 = vectorizer.transform(text4)\n",
    "y4 = svm.predict(X4)\n",
    "\n",
    "print(text1,y1)\n",
    "print(text2,y2)\n",
    "print(text3,y3)\n",
    "print(text4,y4)"
   ]
  },
  {
   "cell_type": "markdown",
   "metadata": {},
   "source": [
    "# Random forest"
   ]
  },
  {
   "cell_type": "code",
   "execution_count": 39,
   "metadata": {},
   "outputs": [],
   "source": [
    "from sklearn.ensemble import RandomForestClassifier\n",
    "from sklearn.feature_extraction.text import TfidfVectorizer\n",
    "from sklearn.metrics import accuracy_score, classification_report"
   ]
  },
  {
   "cell_type": "code",
   "execution_count": 56,
   "metadata": {},
   "outputs": [
    {
     "data": {
      "text/plain": [
       "RandomForestClassifier(random_state=42)"
      ]
     },
     "execution_count": 56,
     "metadata": {},
     "output_type": "execute_result"
    }
   ],
   "source": [
    "rf = RandomForestClassifier(n_estimators=100, random_state=42)\n",
    "rf.fit(X_train, y_train)"
   ]
  },
  {
   "cell_type": "code",
   "execution_count": 57,
   "metadata": {},
   "outputs": [
    {
     "name": "stdout",
     "output_type": "stream",
     "text": [
      "Accuracy: 0.9045697329376855\n",
      "              precision    recall  f1-score   support\n",
      "\n",
      "         bad       0.91      0.89      0.90      4194\n",
      "        good       0.90      0.92      0.91      4231\n",
      "\n",
      "    accuracy                           0.90      8425\n",
      "   macro avg       0.90      0.90      0.90      8425\n",
      "weighted avg       0.90      0.90      0.90      8425\n",
      "\n"
     ]
    }
   ],
   "source": [
    "y_val_pred = rf.predict(X_val)\n",
    "acc = accuracy_score(y_val, y_val_pred)\n",
    "report = classification_report(y_val, y_val_pred)\n",
    "print(f\"Accuracy: {acc}\")\n",
    "print(report)"
   ]
  },
  {
   "cell_type": "code",
   "execution_count": 58,
   "metadata": {},
   "outputs": [
    {
     "name": "stdout",
     "output_type": "stream",
     "text": [
      "Accuracy: 0.9044741039200873\n",
      "              precision    recall  f1-score   support\n",
      "\n",
      "         bad       0.91      0.90      0.90      6019\n",
      "        good       0.90      0.91      0.90      5894\n",
      "\n",
      "    accuracy                           0.90     11913\n",
      "   macro avg       0.90      0.90      0.90     11913\n",
      "weighted avg       0.90      0.90      0.90     11913\n",
      "\n"
     ]
    }
   ],
   "source": [
    "y_test_pred = rf.predict(X_test)\n",
    "acc = accuracy_score(y_test, y_test_pred)\n",
    "report = classification_report(y_test, y_test_pred)\n",
    "print(f\"Accuracy: {acc}\")\n",
    "print(report)"
   ]
  },
  {
   "cell_type": "code",
   "execution_count": 65,
   "metadata": {},
   "outputs": [
    {
     "name": "stdout",
     "output_type": "stream",
     "text": [
      "['chatgpt is helpful'] ['good']\n",
      "['chatgpt is not very good'] ['good']\n",
      "['chatgpt is slow'] ['bad']\n",
      "['the answers of chatgpt is crazy'] ['bad']\n"
     ]
    }
   ],
   "source": [
    "text1 = [\"chatgpt is helpful\"]\n",
    "X1 = vectorizer.transform(text1)\n",
    "y1 = rf.predict(X1)\n",
    "text2 = [\"chatgpt is not very good\"]\n",
    "X2 = vectorizer.transform(text2)\n",
    "y2 = rf.predict(X2)\n",
    "text3 = [\"chatgpt is slow\"]\n",
    "X3 = vectorizer.transform(text3)\n",
    "y3 = rf.predict(X3)\n",
    "text4 = [\"the answers of chatgpt is crazy\"]\n",
    "X4 = vectorizer.transform(text4)\n",
    "y4 = rf.predict(X4)\n",
    "\n",
    "\n",
    "print(text1,y1)\n",
    "print(text2,y2)\n",
    "print(text3,y3)\n",
    "print(text4,y4)"
   ]
  },
  {
   "cell_type": "markdown",
   "metadata": {},
   "source": [
    "# Naive Bayes"
   ]
  },
  {
   "cell_type": "code",
   "execution_count": 45,
   "metadata": {},
   "outputs": [],
   "source": [
    "from sklearn.naive_bayes import MultinomialNB"
   ]
  },
  {
   "cell_type": "code",
   "execution_count": 60,
   "metadata": {},
   "outputs": [
    {
     "data": {
      "text/plain": [
       "MultinomialNB()"
      ]
     },
     "execution_count": 60,
     "metadata": {},
     "output_type": "execute_result"
    }
   ],
   "source": [
    "nb = MultinomialNB()\n",
    "nb.fit(X_train, y_train)"
   ]
  },
  {
   "cell_type": "code",
   "execution_count": 61,
   "metadata": {},
   "outputs": [
    {
     "name": "stdout",
     "output_type": "stream",
     "text": [
      "Accuracy: 0.776379821958457\n",
      "              precision    recall  f1-score   support\n",
      "\n",
      "         bad       0.97      0.57      0.72      4194\n",
      "        good       0.70      0.98      0.81      4231\n",
      "\n",
      "    accuracy                           0.78      8425\n",
      "   macro avg       0.83      0.78      0.77      8425\n",
      "weighted avg       0.83      0.78      0.77      8425\n",
      "\n"
     ]
    }
   ],
   "source": [
    "y_val_pred = nb.predict(X_val)\n",
    "acc = accuracy_score(y_val, y_val_pred)\n",
    "report = classification_report(y_val, y_val_pred)\n",
    "print(f\"Accuracy: {acc}\")\n",
    "print(report)"
   ]
  },
  {
   "cell_type": "code",
   "execution_count": 62,
   "metadata": {},
   "outputs": [
    {
     "name": "stdout",
     "output_type": "stream",
     "text": [
      "Accuracy: 0.7800721900444892\n",
      "              precision    recall  f1-score   support\n",
      "\n",
      "         bad       0.97      0.58      0.73      6019\n",
      "        good       0.70      0.98      0.82      5894\n",
      "\n",
      "    accuracy                           0.78     11913\n",
      "   macro avg       0.83      0.78      0.77     11913\n",
      "weighted avg       0.84      0.78      0.77     11913\n",
      "\n"
     ]
    }
   ],
   "source": [
    "y_test_pred = nb.predict(X_test)\n",
    "acc = accuracy_score(y_test, y_test_pred)\n",
    "report = classification_report(y_test, y_test_pred)\n",
    "print(f\"Accuracy: {acc}\")\n",
    "print(report)"
   ]
  },
  {
   "cell_type": "code",
   "execution_count": 63,
   "metadata": {},
   "outputs": [
    {
     "name": "stdout",
     "output_type": "stream",
     "text": [
      "['chatgpt is helpful'] ['good']\n",
      "['chatgpt is not very good'] ['good']\n",
      "['chatgpt is slow'] ['bad']\n",
      "['the answers of chatgpt is crazy'] ['bad']\n"
     ]
    }
   ],
   "source": [
    "text1 = [\"chatgpt is helpful\"]\n",
    "X1 = vectorizer.transform(text1)\n",
    "y1 = nb.predict(X1)\n",
    "text2 = [\"chatgpt is not very good\"]\n",
    "X2 = vectorizer.transform(text2)\n",
    "y2 = nb.predict(X2)\n",
    "text3 = [\"chatgpt is slow\"]\n",
    "X3 = vectorizer.transform(text3)\n",
    "y3 = nb.predict(X3)\n",
    "text4 = [\"the answers of chatgpt is crazy\"]\n",
    "X4 = vectorizer.transform(text4)\n",
    "y4 = nb.predict(X4)\n",
    "\n",
    "\n",
    "print(text1,y1)\n",
    "print(text2,y2)\n",
    "print(text3,y3)\n",
    "print(text4,y4)"
   ]
  },
  {
   "cell_type": "code",
   "execution_count": null,
   "metadata": {},
   "outputs": [],
   "source": []
  }
 ],
 "metadata": {
  "kernelspec": {
   "display_name": "Python 3",
   "language": "python",
   "name": "python3"
  },
  "language_info": {
   "codemirror_mode": {
    "name": "ipython",
    "version": 3
   },
   "file_extension": ".py",
   "mimetype": "text/x-python",
   "name": "python",
   "nbconvert_exporter": "python",
   "pygments_lexer": "ipython3",
   "version": "3.7.2"
  }
 },
 "nbformat": 4,
 "nbformat_minor": 5
}
